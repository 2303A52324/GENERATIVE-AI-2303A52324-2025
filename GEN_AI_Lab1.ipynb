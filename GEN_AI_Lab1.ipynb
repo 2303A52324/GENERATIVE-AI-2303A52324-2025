{
  "nbformat": 4,
  "nbformat_minor": 0,
  "metadata": {
    "colab": {
      "provenance": [],
      "authorship_tag": "ABX9TyNT63ZfHQQ6nQ5Isy3K/xwy",
      "include_colab_link": true
    },
    "kernelspec": {
      "name": "python3",
      "display_name": "Python 3"
    },
    "language_info": {
      "name": "python"
    }
  },
  "cells": [
    {
      "cell_type": "markdown",
      "metadata": {
        "id": "view-in-github",
        "colab_type": "text"
      },
      "source": [
        "<a href=\"https://colab.research.google.com/github/2303A52324/GENERATIVE-AI-2303A52324-2025/blob/main/GEN_AI_Lab1.ipynb\" target=\"_parent\"><img src=\"https://colab.research.google.com/assets/colab-badge.svg\" alt=\"Open In Colab\"/></a>"
      ]
    },
    {
      "cell_type": "code",
      "source": [
        " ## 1. (1 ponto) Write Python code from scratch to find error metrics of deep learning model. Actual\n",
        " ## values and deep learning model predicted values are shown in Table 1. Also compare the results\n",
        " ## with the outcomes of libraries"
      ],
      "metadata": {
        "id": "kQ4K3Mw7r_OD"
      },
      "execution_count": 6,
      "outputs": []
    },
    {
      "cell_type": "code",
      "source": [
        "import numpy as np\n",
        "from sklearn.metrics import mean_squared_error, mean_absolute_error, r2_score\n",
        "\n",
        "y = np.array([20, 30, 40, 50, 60])\n",
        "yp = np.array([20.5, 30.3, 40.2, 50.6, 60.7])\n",
        "\n",
        "mse = mean_squared_error(y, yp)\n",
        "rmse = np.sqrt(mse)\n",
        "mae = mean_absolute_error(y, yp)\n",
        "mape = np.mean(np.abs((y - yp) / y)) * 100\n",
        "r2 = r2_score(y, yp)\n",
        "print(f\"Mean Square Error (MSE): {mse}\")\n",
        "print(f\"Root Mean Square Error (RMSE): {rmse}\")dADasw\n",
        "print(f\"Mean Absolute Error (MAE): {mae}\")\n",
        "print(f\"Mean Absolute Percentage Error (MAPE): {mape}%\")\n",
        "print(f\"R-squared (R²): {r2}\")"
      ],
      "metadata": {
        "colab": {
          "base_uri": "https://localhost:8080/"
        },
        "id": "i2YzB5Y6nysL",
        "outputId": "75d33976-1892-4a9a-86ef-47fcbc5a9849"
      },
      "execution_count": null,
      "outputs": [
        {
          "output_type": "stream",
          "name": "stdout",
          "text": [
            "Mean Square Error (MSE): 0.24600000000000147\n",
            "Root Mean Square Error (RMSE): 0.49598387070549127\n",
            "Mean Absolute Error (MAE): 0.4600000000000016\n",
            "Mean Absolute Percentage Error (MAPE): 1.273333333333337%\n",
            "R-squared (R²): 0.99877\n"
          ]
        }
      ]
    },
    {
      "cell_type": "code",
      "source": [
        " ## 2. (1 ponto) Write python code from scratch to find evaluation metrics of deep learning model.\n",
        " ## Actual values and deep learning model predicted values are shown in Table 2. Also compare the\n",
        " ## results with outcome of libraries"
      ],
      "metadata": {
        "id": "FD3LRCrasK_V"
      },
      "execution_count": 7,
      "outputs": []
    },
    {
      "cell_type": "code",
      "source": [
        "import numpy as np\n",
        "from sklearn.metrics import mean_squared_error, mean_absolute_error, r2_score\n",
        "\n",
        "y = np.array([0,0,0,0,0])\n",
        "yp = np.array([0,0,1,2,2])\n",
        "\n",
        "mse = mean_squared_error(y, yp)\n",
        "rmse = np.sqrt(mse)\n",
        "mae = mean_absolute_error(y, yp)\n",
        "mape = np.mean(np.abs((y - yp) / y)) * 100\n",
        "r2 = r2_score(y, yp)\n",
        "print(f\"Mean Square Error (MSE): {mse}\")\n",
        "print(f\"Root Mean Square Error (RMSE): {rmse}\")\n",
        "print(f\"Mean Absolute Error (MAE): {mae}\")\n",
        "print(f\"Mean Absolute Percentage Error (MAPE): {mape}%\")\n",
        "print(f\"R-squared (R²): {r2}\")"
      ],
      "metadata": {
        "id": "81cPXexSoQDa",
        "colab": {
          "base_uri": "https://localhost:8080/"
        },
        "outputId": "0645141b-fe92-48f1-b362-71777e71bec4"
      },
      "execution_count": 5,
      "outputs": [
        {
          "output_type": "stream",
          "name": "stdout",
          "text": [
            "Mean Square Error (MSE): 1.8\n",
            "Root Mean Square Error (RMSE): 1.3416407864998738\n",
            "Mean Absolute Error (MAE): 1.0\n",
            "Mean Absolute Percentage Error (MAPE): nan%\n",
            "R-squared (R²): 0.0\n"
          ]
        },
        {
          "output_type": "stream",
          "name": "stderr",
          "text": [
            "<ipython-input-5-ebac5f224838>:10: RuntimeWarning: divide by zero encountered in divide\n",
            "  mape = np.mean(np.abs((y - yp) / y)) * 100\n",
            "<ipython-input-5-ebac5f224838>:10: RuntimeWarning: invalid value encountered in divide\n",
            "  mape = np.mean(np.abs((y - yp) / y)) * 100\n"
          ]
        }
      ]
    },
    {
      "cell_type": "code",
      "source": [],
      "metadata": {
        "id": "Ag8jS1OTr83n"
      },
      "execution_count": null,
      "outputs": []
    }
  ]
}